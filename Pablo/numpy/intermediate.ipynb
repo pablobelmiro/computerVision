{
 "cells": [
  {
   "cell_type": "code",
   "execution_count": 7,
   "id": "4d45d1e8",
   "metadata": {},
   "outputs": [],
   "source": [
    "import numpy as np"
   ]
  },
  {
   "cell_type": "markdown",
   "id": "d8255aab",
   "metadata": {},
   "source": [
    "Using zeros and ones"
   ]
  },
  {
   "cell_type": "code",
   "execution_count": null,
   "id": "1f20ec2f",
   "metadata": {},
   "outputs": [
    {
     "name": "stdout",
     "output_type": "stream",
     "text": [
      "a: [0. 0. 0.]\n",
      "-----\n",
      "b: [[0. 0. 0. 0. 0.]\n",
      " [0. 0. 0. 0. 0.]\n",
      " [0. 0. 0. 0. 0.]]\n",
      "-----\n",
      "c: [[[0. 0. 0. 0. 0.]\n",
      "  [0. 0. 0. 0. 0.]\n",
      "  [0. 0. 0. 0. 0.]]\n",
      "\n",
      " [[0. 0. 0. 0. 0.]\n",
      "  [0. 0. 0. 0. 0.]\n",
      "  [0. 0. 0. 0. 0.]]]\n"
     ]
    }
   ],
   "source": [
    "#numbers are created with float data\n",
    "a = np.zeros(3)\n",
    "print(f'a: {a}')\n",
    "\n",
    "print('-----')\n",
    "\n",
    "b = np.zeros([3,5])\n",
    "print(f'b: {b}')\n",
    "\n",
    "print('-----')\n",
    "\n",
    "c = np.zeros([2,3,5])\n",
    "print(f'c: {c}')"
   ]
  },
  {
   "cell_type": "code",
   "execution_count": null,
   "id": "3a590e11",
   "metadata": {},
   "outputs": [
    {
     "name": "stdout",
     "output_type": "stream",
     "text": [
      "a: [1 1 1]\n",
      "-----\n",
      "b: [[1 1 1 1 1]\n",
      " [1 1 1 1 1]\n",
      " [1 1 1 1 1]]\n",
      "-----\n",
      "c: [[[1 1 1 1 1]\n",
      "  [1 1 1 1 1]\n",
      "  [1 1 1 1 1]]\n",
      "\n",
      " [[1 1 1 1 1]\n",
      "  [1 1 1 1 1]\n",
      "  [1 1 1 1 1]]]\n"
     ]
    }
   ],
   "source": [
    "#numbers are created with int data using dtype param\n",
    "a = np.ones(3, dtype='int32')\n",
    "print(f'a: {a}')\n",
    "\n",
    "print('-----')\n",
    "\n",
    "b = np.ones([3,5], dtype='int32')\n",
    "print(f'b: {b}')\n",
    "\n",
    "print('-----')\n",
    "\n",
    "c = np.ones([2,3,5], dtype='int32')\n",
    "print(f'c: {c}')"
   ]
  },
  {
   "cell_type": "code",
   "execution_count": 14,
   "id": "42bea09a",
   "metadata": {},
   "outputs": [
    {
     "name": "stdout",
     "output_type": "stream",
     "text": [
      "a: [[99 99]\n",
      " [99 99]\n",
      " [99 99]]\n",
      "-----\n",
      "b: [[25 25]\n",
      " [25 25]\n",
      " [25 25]]\n"
     ]
    }
   ],
   "source": [
    "#we can use np full to create a matrices\n",
    "a = np.full([3,2], 99)\n",
    "print(f'a: {a}')\n",
    "\n",
    "print('-----')\n",
    "\n",
    "#using full like to create the same \"shape\" with another value\n",
    "b = np.full_like(a, 25)\n",
    "print(f'b: {b}')\n",
    "\n"
   ]
  },
  {
   "cell_type": "code",
   "execution_count": null,
   "id": "89b3fb72",
   "metadata": {},
   "outputs": [
    {
     "name": "stdout",
     "output_type": "stream",
     "text": [
      "c: [[[0.25759163 0.54140703 0.59846245]\n",
      "  [0.28959929 0.98824162 0.82304087]]\n",
      "\n",
      " [[0.41615719 0.46897474 0.82934011]\n",
      "  [0.80420369 0.62385798 0.3919338 ]]]\n",
      "-----\n",
      "d: [[[4 6 4 8 2]\n",
      "  [1 6 0 7 4]\n",
      "  [9 2 3 9 0]]\n",
      "\n",
      " [[2 2 8 3 7]\n",
      "  [5 2 2 0 2]\n",
      "  [5 0 7 1 0]]]\n"
     ]
    }
   ],
   "source": [
    "#creating random matrices\n",
    "c = np.random.rand(2, 2, 3) #2 matrices with 2 lines and 3 columns\n",
    "print(f'c: {c}')\n",
    "\n",
    "print('-----')\n",
    "\n",
    "#creating random matrice with specific type\n",
    "d = np.random.randint(0, 10, size=(2,3,5)) #2 matrices with 2 lines and 5 columns with numbers until 10(max) - We can have a min value\n",
    "print(f'd: {d}')"
   ]
  },
  {
   "cell_type": "code",
   "execution_count": 20,
   "id": "47a1186d",
   "metadata": {},
   "outputs": [
    {
     "name": "stdout",
     "output_type": "stream",
     "text": [
      "a: [[1. 0. 0. 0. 0. 0. 0. 0. 0.]\n",
      " [0. 1. 0. 0. 0. 0. 0. 0. 0.]\n",
      " [0. 0. 1. 0. 0. 0. 0. 0. 0.]\n",
      " [0. 0. 0. 1. 0. 0. 0. 0. 0.]\n",
      " [0. 0. 0. 0. 1. 0. 0. 0. 0.]\n",
      " [0. 0. 0. 0. 0. 1. 0. 0. 0.]\n",
      " [0. 0. 0. 0. 0. 0. 1. 0. 0.]\n",
      " [0. 0. 0. 0. 0. 0. 0. 1. 0.]\n",
      " [0. 0. 0. 0. 0. 0. 0. 0. 1.]]\n"
     ]
    }
   ],
   "source": [
    "#identity matrice -> square root\n",
    "a = np.identity(9)\n",
    "print(f'a: {a}')"
   ]
  }
 ],
 "metadata": {
  "kernelspec": {
   "display_name": "Python 3",
   "language": "python",
   "name": "python3"
  },
  "language_info": {
   "codemirror_mode": {
    "name": "ipython",
    "version": 3
   },
   "file_extension": ".py",
   "mimetype": "text/x-python",
   "name": "python",
   "nbconvert_exporter": "python",
   "pygments_lexer": "ipython3",
   "version": "3.12.1"
  }
 },
 "nbformat": 4,
 "nbformat_minor": 5
}

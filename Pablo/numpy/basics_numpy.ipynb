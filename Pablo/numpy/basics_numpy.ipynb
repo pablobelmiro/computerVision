{
 "cells": [
  {
   "cell_type": "markdown",
   "id": "c64ff132",
   "metadata": {},
   "source": [
    "BASICS"
   ]
  },
  {
   "cell_type": "code",
   "execution_count": 14,
   "id": "a41b08ae",
   "metadata": {},
   "outputs": [],
   "source": [
    "#import\n",
    "import numpy as np"
   ]
  },
  {
   "cell_type": "code",
   "execution_count": 21,
   "id": "1afb0d5e",
   "metadata": {},
   "outputs": [
    {
     "name": "stdout",
     "output_type": "stream",
     "text": [
      "[1 2 3]\n",
      "------------\n",
      "[[1. 3.]\n",
      " [2. 4.]]\n",
      "------------\n",
      "[[[[1 2]\n",
      "   [3 4]]\n",
      "\n",
      "  [[5 6]\n",
      "   [7 8]]]] (1, 2, 2, 2)\n"
     ]
    }
   ],
   "source": [
    "#creating\n",
    "a = np.array([1, 2, 3])\n",
    "print(a)\n",
    "\n",
    "print('------------')\n",
    "\n",
    "b = np.array([[1.0, 3.0], [2.0, 4.0]])\n",
    "print(b)\n",
    "\n",
    "print('------------')\n",
    "\n",
    "#Creating array with a specific type\n",
    "c = np.array([1, 2, 3, 40, 50, 70, 127], dtype='int8')\n",
    "\n",
    "#3D arrray\n",
    "d3 = np.array([[[[1,2], [3,4]], [[5,6], [7,8]]]])\n",
    "print(d3, d3.shape)\n"
   ]
  },
  {
   "cell_type": "markdown",
   "id": "9cd2eb1f",
   "metadata": {},
   "source": [
    "METADATA"
   ]
  },
  {
   "cell_type": "code",
   "execution_count": 17,
   "id": "54220e8e",
   "metadata": {},
   "outputs": [
    {
     "name": "stdout",
     "output_type": "stream",
     "text": [
      "aDim: 1\n",
      "aShape: (3,)\n",
      "aType: int32\n",
      "aItemSize: 4\n",
      "aTotalSize: 12\n",
      "------------\n",
      "bDim: 2\n",
      "bShape: (2, 2)\n",
      "bType: float64\n",
      "bItemSize: 8\n",
      "bTotalSize: 32\n",
      "------------\n",
      "cType: int8\n",
      "cItemSize: 1\n",
      "cTotalSize: 7\n"
     ]
    }
   ],
   "source": [
    "aDim = a.ndim #dimentions\n",
    "print(f'aDim: {aDim}')\n",
    "aShape = a.shape #format/shape -> same as lenght of a list\n",
    "print(f'aShape: {aShape}')\n",
    "aType = a.dtype #type of itens\n",
    "print(f'aType: {aType}')\n",
    "aItemSize = a.itemsize\n",
    "print(f'aItemSize: {aItemSize}') #size of item in bites\n",
    "aTotalSize = a.nbytes\n",
    "print(f'aTotalSize: {aTotalSize}') #total size of bites\n",
    "\n",
    "print('------------')\n",
    "\n",
    "bDim = b.ndim #dimentions\n",
    "print(f'bDim: {bDim}')\n",
    "bShape = b.shape #format/shape\n",
    "print(f'bShape: {bShape}')\n",
    "bType = b.dtype #type of itens\n",
    "print(f'bType: {bType}')\n",
    "bItemSize = b.itemsize\n",
    "print(f'bItemSize: {bItemSize}') #size of item in bites,\n",
    "bTotalSize = b.nbytes\n",
    "print(f'bTotalSize: {bTotalSize}') #total size of bites\n",
    "\n",
    "print('------------')\n",
    "cType = c.dtype\n",
    "print(f'cType: {cType}')\n",
    "cItemSize = c.itemsize\n",
    "print(f'cItemSize: {cItemSize}')\n",
    "cTotalSize = c.nbytes\n",
    "print(f'cTotalSize: {cTotalSize}') #total size of bites"
   ]
  }
 ],
 "metadata": {
  "kernelspec": {
   "display_name": "Python 3",
   "language": "python",
   "name": "python3"
  },
  "language_info": {
   "codemirror_mode": {
    "name": "ipython",
    "version": 3
   },
   "file_extension": ".py",
   "mimetype": "text/x-python",
   "name": "python",
   "nbconvert_exporter": "python",
   "pygments_lexer": "ipython3",
   "version": "3.12.1"
  }
 },
 "nbformat": 4,
 "nbformat_minor": 5
}
